{
 "cells": [
  {
   "cell_type": "markdown",
   "metadata": {
    "slideshow": {
     "slide_type": "skip"
    }
   },
   "source": [
    "$$\n",
    "\\newcommand{\\sign}{\\mathrm{sign}}\n",
    "%\n",
    "\\newcommand{\\vw}{\\mathbf{w}}\n",
    "\\newcommand{\\vx}{\\mathbf{x}}\n",
    "$$"
   ]
  },
  {
   "cell_type": "markdown",
   "metadata": {
    "cell_style": "center",
    "slideshow": {
     "slide_type": "-"
    }
   },
   "source": [
    "# Lecture 1: Introduction\n",
    "## Pattern Recognition, Fall 2022\n",
    "\n",
    "**Ivan Dokmanić**\n",
    "\n",
    "<br><br><br>\n",
    "\n",
    "<img src=\"figs/sada-unibas-0.svg\" width=\"60%\" float=\"left\">\n",
    "\n",
    "\n",
    "\n"
   ]
  },
  {
   "cell_type": "markdown",
   "metadata": {
    "slideshow": {
     "slide_type": "slide"
    }
   },
   "source": [
    "# What's the plan?\n",
    "\n",
    "- Pattern recognition is about ... recognizing patterns!\n",
    "- Normally we would have to start by defining a \"pattern\", \"recognition\", and all that...\n",
    "\n",
    "<center>\n",
    "<img src=\"figs/yoda.jpg\" width=\"40%\" />\n",
    "</center>\n",
    "\n",
    "I'm a big fan of learning by doing, so before getting all historical, philosophical, and mathematical, and asking what is a pattern, let's start by recognizing patterns!\n"
   ]
  },
  {
   "cell_type": "markdown",
   "metadata": {
    "slideshow": {
     "slide_type": "slide"
    }
   },
   "source": [
    "# Yann LeCun and MNIST ftw\n",
    "\n",
    "<center>\n",
    "    <img src=\"figs/lecun-mnist.jpg\" width=\"70%\">\n",
    "</center>\n",
    "\n",
    "- A very early evangelist of convolutional neural networks, backpropagation, and all that\n",
    "- One of the poster boys of deep learning\n",
    "- The creator of the indestructible MNIST dataset\n",
    "\n"
   ]
  },
  {
   "cell_type": "markdown",
   "metadata": {
    "slideshow": {
     "slide_type": "slide"
    }
   },
   "source": [
    "# MNIST\n",
    "\n",
    "Let's start by loading and displaying a couple of digits"
   ]
  },
  {
   "cell_type": "code",
   "execution_count": 33,
   "metadata": {
    "slideshow": {
     "slide_type": "fragment"
    }
   },
   "outputs": [
    {
     "data": {
      "image/png": "[encoded data removed]",
      "text/plain": [
       "<Figure size 1008x216 with 4 Axes>"
      ]
     },
     "metadata": {
      "needs_background": "light"
     },
     "output_type": "display_data"
    }
   ],
   "source": [
    "from mlxtend.data import loadlocal_mnist\n",
    "\n",
    "X_train, y_train = loadlocal_mnist(\n",
    "        images_path='/Users/dokman0000/Downloads/train-images-idx3-ubyte', \n",
    "        labels_path='/Users/dokman0000/Downloads/train-labels-idx1-ubyte'\n",
    "        )\n",
    "\n",
    "fig, axs = plt.subplots(ncols=4, nrows=1, figsize=(14, 3))\n",
    "for ax in axs:\n",
    "    ax.imshow(X_train[np.random.randint(1000)].reshape(28, 28), cmap='gray')"
   ]
  },
  {
   "cell_type": "markdown",
   "metadata": {
    "slideshow": {
     "slide_type": "subslide"
    }
   },
   "source": [
    "# Our goal: ship a PR system\n",
    "\n",
    "- We have some examples of patterns and classes from the real world\n",
    "- We can do whatever we want with them\n",
    "- But we have no clue what our system will see out there!\n",
    "- Hope: similar stuff, similar \"distribution\", but certainly not the same\n",
    "\n"
   ]
  },
  {
   "cell_type": "markdown",
   "metadata": {
    "slideshow": {
     "slide_type": "subslide"
    }
   },
   "source": [
    "# Let's focus on two digits"
   ]
  },
  {
   "cell_type": "code",
   "execution_count": 12,
   "metadata": {
    "slideshow": {
     "slide_type": "skip"
    }
   },
   "outputs": [],
   "source": [
    "classes = [4, 7]\n",
    "d = 28**2\n",
    "X = np.ndarray((0, d))\n",
    "y = np.ndarray((0, 1))\n",
    "\n",
    "for cl in classes:\n",
    "    X = np.vstack((X, X_train[y_train == cl]))\n",
    "    y = np.vstack((y, y_train[y_train == cl, np.newaxis]))\n",
    "\n",
    "n = len(y)\n",
    "shuffle_idx = np.random.permutation(n) - 1\n",
    "X = X[shuffle_idx]\n",
    "y = y[shuffle_idx].flatten()\n",
    "y = 2*(y == classes[0]) - 1\n",
    "\n",
    "n = 5000\n",
    "X = X[:n]\n",
    "y = y[:n]"
   ]
  },
  {
   "cell_type": "code",
   "execution_count": 13,
   "metadata": {
    "slideshow": {
     "slide_type": "-"
    }
   },
   "outputs": [
    {
     "data": {
      "image/png": "[encoded data removed]",
      "text/plain": [
       "<Figure size 1008x216 with 4 Axes>"
      ]
     },
     "metadata": {
      "needs_background": "light"
     },
     "output_type": "display_data"
    }
   ],
   "source": [
    "# (some hidden code above selects only 4s and 7s)\n",
    "\n",
    "fig, axs = plt.subplots(ncols=4, nrows=1, figsize=(14, 3))\n",
    "for ax in axs:\n",
    "    ax.imshow(X[np.random.randint(1000)].reshape(28, 28), cmap='gray')"
   ]
  },
  {
   "cell_type": "markdown",
   "metadata": {
    "slideshow": {
     "slide_type": "slide"
    }
   },
   "source": [
    "# Rule 0: simple ideas first\n",
    "\n",
    "Let's start with a _linear_ classifier. What does _linear_ mean? \n",
    "\n",
    "Represent the \"pattern\" as a sequence of numbers in a \"vector\" $\\mathbf{x}$ (we can always do this!),\n",
    "\n",
    "$$\n",
    "    \\mathbf{x} = \n",
    "    \\begin{bmatrix}\n",
    "    x_1 \\\\ x_2 \\\\ \\vdots \\\\ x_d\n",
    "    \\end{bmatrix}.\n",
    "$$\n",
    "\n",
    "A linear classifier returns the label $y = \\mathrm{sign}\\left(\\sum_{i = 1}^d w_i x_i\\right) = \\mathrm{sign}(\\mathbf{w} \\cdot \\mathbf{x}) = \\mathrm{sign}(\\langle \\mathbf{w}, \\mathbf{x} \\rangle) = \\mathrm{sign}(\\mathbf{w}^T \\mathbf{x}$)."
   ]
  },
  {
   "cell_type": "markdown",
   "metadata": {
    "slideshow": {
     "slide_type": "subslide"
    }
   },
   "source": [
    "# Simple ideas first: choosing $\\mathbf{w}$\n",
    "\n",
    "How about randomly? 🤭\n",
    "\n"
   ]
  },
  {
   "cell_type": "markdown",
   "metadata": {
    "slideshow": {
     "slide_type": "fragment"
    }
   },
   "source": [
    "No seriously... let's give it a shot.\n",
    "\n"
   ]
  },
  {
   "cell_type": "markdown",
   "metadata": {
    "slideshow": {
     "slide_type": "fragment"
    }
   },
   "source": [
    "$$\n",
    "    \\widehat{y} = \\sum_{i = 1}^{28} \\sum_{j = 1}^{28} w_{ij} x_{ij}\n",
    "$$\n",
    "with $w_{ij} \\stackrel{\\text{iid}}{\\sim} \\mathcal{N}(0, 1)$."
   ]
  },
  {
   "cell_type": "code",
   "execution_count": 15,
   "metadata": {
    "slideshow": {
     "slide_type": "subslide"
    }
   },
   "outputs": [
    {
     "name": "stdout",
     "output_type": "stream",
     "text": [
      "2393 out of 5000 patterns correctly classified (47.86%)\n"
     ]
    },
    {
     "data": {
      "image/png": "[encoded data removed]",
      "text/plain": [
       "<Figure size 504x360 with 1 Axes>"
      ]
     },
     "metadata": {
      "needs_background": "light"
     },
     "output_type": "display_data"
    }
   ],
   "source": [
    "# generate random weights\n",
    "w_random = np.random.randn(d)\n",
    "\n",
    "# predict labels\n",
    "y_est = np.sign(X @ w_random)\n",
    "\n",
    "correct = np.sum(y_est * y == 1)\n",
    "print('%d out of %d patterns correctly classified (%5.2f%%)' % (correct, n, 100*correct/n))\n",
    "\n",
    "fig, ax = plt.subplots(figsize=(7, 5))\n",
    "ax.hist(X @ w_random, bins=20)\n",
    "_ = ax.set_title('Dot products between \\n $\\mathbf{w}_{\\mathrm{random}}$ and the patterns\\n')"
   ]
  },
  {
   "cell_type": "markdown",
   "metadata": {
    "slideshow": {
     "slide_type": "subslide"
    }
   },
   "source": [
    "OK, this is not great.\n",
    "\n",
    "Let's visualize what's going on: pretend that the digits only have two pixels\n"
   ]
  },
  {
   "cell_type": "markdown",
   "metadata": {
    "slideshow": {
     "slide_type": "fragment"
    }
   },
   "source": [
    " <div class=\"row\">\n",
    "  <div class=\"column\">\n",
    "    <center>\n",
    "        <img src=\"figs/linear-random-1.svg\" width=\"70%\"/><br>\n",
    "        some examples are missclassified\n",
    "    </center>    \n",
    "  </div>\n",
    "  <div class=\"column\">\n",
    "    <center>\n",
    "        <img src=\"figs/linear-random.svg\" width=\"70%\"/><br>\n",
    "        we bump $\\mathbf{w}$ \"away\" from the closest misclassified example    \n",
    "    </center>   \n",
    "  </div>\n",
    "</div> "
   ]
  },
  {
   "cell_type": "markdown",
   "metadata": {
    "slideshow": {
     "slide_type": "subslide"
    }
   },
   "source": [
    "We currently have for the \"nearby\" misclassified example $\\mathbf{x}$ that\n",
    "\n",
    "$$\n",
    "\\mathbf{w}^T \\mathbf{x} = \\alpha\n",
    "$$\n",
    "\n",
    "We want to compute a small bump in the direction of negative $\\mathbf{x}$, say $c \\mathbf{x}$ so that\n",
    "\n",
    "$$\n",
    "    (\\mathbf{w} + c \\mathbf{x})^T \\mathbf{x} = 0\n",
    "$$\n",
    "\n",
    "Thus\n",
    "\n",
    "$$\n",
    "    \\mathbf{w}^T \\mathbf{x} + c \\mathbf{x}^T \\mathbf{x} = 0 \n",
    "    \\Longrightarrow\n",
    "    c = - \\frac{\\mathbf{w}^T \\mathbf{x}}{\\mathbf{x}^T \\mathbf{x}} = -\\frac{\\alpha}{\\| \\mathbf{x} \\|^2}\n",
    "$$\n"
   ]
  },
  {
   "cell_type": "markdown",
   "metadata": {
    "slideshow": {
     "slide_type": "subslide"
    }
   },
   "source": [
    "$$\n",
    "    \\mathbf{w}^T \\mathbf{x} + c \\mathbf{x}^T \\mathbf{x} = 0 \n",
    "    \\Longrightarrow\n",
    "    c = - \\frac{\\mathbf{w}^T \\mathbf{x}}{\\mathbf{x}^T \\mathbf{x}} = -\\frac{\\alpha}{\\| \\mathbf{x} \\|^2}\n",
    "$$\n"
   ]
  },
  {
   "cell_type": "code",
   "execution_count": 17,
   "metadata": {
    "slideshow": {
     "slide_type": "fragment"
    }
   },
   "outputs": [
    {
     "name": "stdout",
     "output_type": "stream",
     "text": [
      "The smallest dot product (in abs) is 1.01e-02\n",
      "The smallest dot product after updating the weights is -1.01e-08\n"
     ]
    }
   ],
   "source": [
    "# find indices of misclassfied examples\n",
    "idx_miss = np.where(y != y_est)[0]\n",
    "\n",
    "idx_miss\n",
    "i = idx_miss[np.argmin(np.abs((X @ w_random)[idx_miss]))]\n",
    "print('The smallest dot product (in abs) is %.2e' % \\\n",
    "      (np.dot(X[i], w_random)))\n",
    "\n",
    "w_random_bumped = w_random - 1.000001 * X[i] * np.dot(X[i], w_random) \\\n",
    "                / np.linalg.norm(X[i])**2\n",
    "\n",
    "print('The smallest dot product after updating the weights is %.2e' % \\\n",
    "      (np.dot(X[i], w_random_bumped)))\n"
   ]
  },
  {
   "cell_type": "code",
   "execution_count": 18,
   "metadata": {
    "slideshow": {
     "slide_type": "subslide"
    }
   },
   "outputs": [
    {
     "name": "stdout",
     "output_type": "stream",
     "text": [
      "Correct before: 2393/5000, correct after: 2394/5000\n"
     ]
    }
   ],
   "source": [
    "y_est_bumped = np.sign(X @ w_random_bumped)\n",
    "correct_bumped = np.sum(y_est_bumped * y == 1)\n",
    "print('Correct before: %d/%d, correct after: %d/%d' % (correct, n, correct_bumped, n))"
   ]
  },
  {
   "cell_type": "markdown",
   "metadata": {
    "slideshow": {
     "slide_type": "subslide"
    }
   },
   "source": [
    "# Let's make this into an algorithm\n",
    "\n",
    "- Cycle over \"training examples\" and do a small update for each\n",
    "- Repeat some number of times\n",
    "\n"
   ]
  },
  {
   "cell_type": "code",
   "execution_count": 16,
   "metadata": {
    "slideshow": {
     "slide_type": "fragment"
    }
   },
   "outputs": [],
   "source": [
    "# write a function that implements this recipe\n",
    "# nb: we'll write a nice one later\n",
    "\n",
    "def train(X, y, lr=0.1, n_iter=30):\n",
    "    # X : a (n, d) matrix with rows being training examples (digits)\n",
    "    # y : a (d, 1) vector of labels\n",
    "\n",
    "    n, d = X.shape\n",
    "    w = np.zeros((d,))\n",
    "    \n",
    "    for i_iter in range(n_iter):\n",
    "        for i_example in range(n):\n",
    "            y_est = np.sign(np.dot(X[i_example], w))\n",
    "\n",
    "            if y_est != y[i_example]:\n",
    "                w += lr * X[i_example] * y[i_example]\n",
    "        \n",
    "    return w"
   ]
  },
  {
   "cell_type": "code",
   "execution_count": 20,
   "metadata": {
    "slideshow": {
     "slide_type": "subslide"
    }
   },
   "outputs": [
    {
     "name": "stdout",
     "output_type": "stream",
     "text": [
      "28 out of 5000 patterns are misclassified\n"
     ]
    },
    {
     "data": {
      "image/png": "[encoded data removed]",
      "text/plain": [
       "<Figure size 576x360 with 1 Axes>"
      ]
     },
     "metadata": {
      "needs_background": "light"
     },
     "output_type": "display_data"
    }
   ],
   "source": [
    "w = train(X, y)\n",
    "\n",
    "error_count = np.sum(np.sign(X @ w) * y < 0 )\n",
    "print(\"%d out of %d patterns are misclassified\" % (error_count, n))\n",
    " \n",
    "w_orth = np.random.randn(d) \n",
    "w_orth -= w * np.dot(w_orth, w) / np.linalg.norm(w)**2\n",
    "\n",
    "X_w = X @ w / np.linalg.norm(w)\n",
    "X_orth = X @ w_orth / np.linalg.norm(w_orth)\n",
    "\n",
    "fig, ax = plt.subplots(figsize=(8, 5))\n",
    "ax.scatter(X_orth[y==1], X_w[y==1])\n",
    "_ = ax.scatter(X_orth[y==-1], X_w[y==-1])"
   ]
  },
  {
   "cell_type": "markdown",
   "metadata": {
    "slideshow": {
     "slide_type": "subslide"
    }
   },
   "source": [
    "# What do the weights do?\n",
    "\n",
    "We can visualize the weights as a 28 $\\times$ 28 image and see exactly how the different digits are distinguished. Very _interpretable_!"
   ]
  },
  {
   "cell_type": "code",
   "execution_count": 22,
   "metadata": {},
   "outputs": [
    {
     "data": {
      "image/png": "[encoded data removed]",
      "text/plain": [
       "<Figure size 576x576 with 2 Axes>"
      ]
     },
     "metadata": {
      "needs_background": "light"
     },
     "output_type": "display_data"
    }
   ],
   "source": [
    "fig, ax = plt.subplots(figsize=(8, 8))\n",
    "im = ax.imshow(w.reshape(28, 28), cmap='winter')\n",
    "_ = fig.colorbar(im, ax=ax, shrink=0.6)"
   ]
  },
  {
   "cell_type": "markdown",
   "metadata": {
    "slideshow": {
     "slide_type": "slide"
    }
   },
   "source": [
    "# This seems to be reasonable\n",
    "\n",
    "Are there other reasonable ideas to classify digits?\n",
    "\n",
    "\n",
    "\n",
    "<center>\n",
    "<img src=\"figs/Meyer_Lemon.jpg\" width=\"30%\"  style=\"vertical-align:middle;margin:2% 2%\" />\n",
    "</center>\n",
    "Imagine I ask you to classify a citrus as either a Meyer lemon or an ordinary lemon. I also give you 30 ordinary lemons and 30 Meyer lemons.\n"
   ]
  },
  {
   "cell_type": "markdown",
   "metadata": {
    "slideshow": {
     "slide_type": "subslide"
    }
   },
   "source": [
    "We can compare the fruit under scrutiny to both piles of citri..."
   ]
  },
  {
   "cell_type": "code",
   "execution_count": 25,
   "metadata": {
    "slideshow": {
     "slide_type": "slide"
    }
   },
   "outputs": [
    {
     "name": "stderr",
     "output_type": "stream",
     "text": [
      "n processed: 100%|█████████████████████████████████████████████████████████████████████| 5000/5000 [00:19<00:00, 251.32it/s]"
     ]
    },
    {
     "name": "stdout",
     "output_type": "stream",
     "text": [
      "The number of misclassified points is:  43\n"
     ]
    },
    {
     "name": "stderr",
     "output_type": "stream",
     "text": [
      "\n"
     ]
    }
   ],
   "source": [
    "k = 31\n",
    "error_count = 0\n",
    "for i_example in tqdm(range(n), desc='n processed'):\n",
    "\n",
    "    # compute distance from the current example to all other examples\n",
    "    dist2 = np.sum((X - X[i_example])**2, axis=1)\n",
    "\n",
    "    # find k closest examples, ignoring zero distance to the current one\n",
    "    k_closest_idx = np.argsort(dist2)[1:k + 1]\n",
    "\n",
    "    # do majority vote on the corresponding labels\n",
    "    y_est = np.sign(y[k_closest_idx].sum())\n",
    "\n",
    "    # check for errors\n",
    "    if y_est * y[i_example] < 0:\n",
    "        error_count += 1\n",
    "\n",
    "print(\"The number of misclassified points is: \", error_count)"
   ]
  },
  {
   "cell_type": "markdown",
   "metadata": {
    "slideshow": {
     "slide_type": "subslide"
    }
   },
   "source": [
    "# Which $k$ works best? (+ the power of vectorization)\n"
   ]
  },
  {
   "cell_type": "code",
   "execution_count": 26,
   "metadata": {
    "slideshow": {
     "slide_type": "fragment"
    }
   },
   "outputs": [
    {
     "name": "stderr",
     "output_type": "stream",
     "text": [
      "100%|█████████████████████████████████████████████████████████████████████████████████████| 49/49 [00:00<00:00, 1331.96it/s]\n"
     ]
    },
    {
     "data": {
      "image/png": "[encoded data removed]",
      "text/plain": [
       "<Figure size 432x288 with 1 Axes>"
      ]
     },
     "metadata": {
      "needs_background": "light"
     },
     "output_type": "display_data"
    }
   ],
   "source": [
    "ec = []\n",
    "G = X @ X.T # ref: EDMs -> hw\n",
    "dist22 = np.diag(G)[:, np.newaxis] - 2*G + np.diag(G)[np.newaxis, :]\n",
    "sorted_dist_idx = np.argsort(dist22, axis=1)\n",
    "\n",
    "for k in tqdm(range(2, 100, 2)):\n",
    "    k_closest_idx = sorted_dist_idx[:, 1:k + 1]\n",
    "    y_est = np.sign(y[k_closest_idx].sum(axis=1))\n",
    "    error_count = (y_est * y <= 0).sum()    \n",
    "    ec.append(error_count)\n",
    "\n",
    "_ = plt.plot(ec, linewidth=3)\n",
    "plt.xlabel('$k$')\n",
    "_ = plt.ylabel('Misclassified points')"
   ]
  },
  {
   "cell_type": "markdown",
   "metadata": {
    "slideshow": {
     "slide_type": "slide"
    }
   },
   "source": [
    "It seems that both $k$ too small and $k$ too large are bad\n",
    "\n",
    "Can we visualize what is going on? We need to use a low-dimensional example"
   ]
  },
  {
   "cell_type": "markdown",
   "metadata": {
    "slideshow": {
     "slide_type": "subslide"
    }
   },
   "source": [
    "# The Iris flower datset\n",
    "\n",
    "- Yet another legendary dataset used by every data science course on the planet\n",
    "- Ronald Fisher, probably the most important statistician of all time (and a complicated person)"
   ]
  },
  {
   "cell_type": "code",
   "execution_count": 27,
   "metadata": {
    "slideshow": {
     "slide_type": "subslide"
    }
   },
   "outputs": [
    {
     "data": {
      "image/png": "[encoded data removed]",
      "text/plain": [
       "<Figure size 504x360 with 1 Axes>"
      ]
     },
     "metadata": {
      "needs_background": "light"
     },
     "output_type": "display_data"
    }
   ],
   "source": [
    "# Modified from Gaël Varoquaux\n",
    "\n",
    "from sklearn import datasets\n",
    "\n",
    "iris = datasets.load_iris()\n",
    "X_iris = iris.data[:, :2]  # take only the first two features\n",
    "y_iris = iris.target\n",
    "\n",
    "x_min, x_max = X_iris[:, 0].min() - 0.5, X_iris[:, 0].max() + 0.5\n",
    "y_min, y_max = X_iris[:, 1].min() - 0.5, X_iris[:, 1].max() + 0.5\n",
    "\n",
    "plt.figure(figsize=(7, 5))\n",
    "\n",
    "plt.scatter(X_iris[:, 0], X_iris[:, 1], c=y_iris, cmap=plt.cm.Set1, edgecolor=\"k\")\n",
    "plt.xlabel(\"Sepal length\")\n",
    "plt.ylabel(\"Sepal width\")\n",
    "\n",
    "plt.xlim(x_min, x_max)\n",
    "_ = plt.ylim(y_min, y_max)"
   ]
  },
  {
   "cell_type": "markdown",
   "metadata": {
    "slideshow": {
     "slide_type": "subslide"
    }
   },
   "source": [
    "We again focus on two classes"
   ]
  },
  {
   "cell_type": "code",
   "execution_count": 28,
   "metadata": {},
   "outputs": [],
   "source": [
    "excluded_class = 2\n",
    "classes = np.setdiff1d([0, 1, 2], excluded_class)\n",
    "X = X_iris[y_iris != excluded_class]\n",
    "y = y_iris[y_iris != excluded_class]\n",
    "y[y == classes[0]] = -1\n",
    "y[y == classes[1]] = 1"
   ]
  },
  {
   "cell_type": "code",
   "execution_count": 29,
   "metadata": {
    "slideshow": {
     "slide_type": "subslide"
    }
   },
   "outputs": [
    {
     "data": {
      "image/png": "[encoded data removed]",
      "text/plain": [
       "<Figure size 432x288 with 1 Axes>"
      ]
     },
     "metadata": {
      "needs_background": "light"
     },
     "output_type": "display_data"
    }
   ],
   "source": [
    "X -= X.mean(axis=0)\n",
    "\n",
    "w = train(X, y)\n",
    "w /= np.linalg.norm(w)\n",
    "w_orth = np.array([1, -w[0] / w[1]])\n",
    "\n",
    "x_min, x_max = X[:, 0].min() - 0.5, X[:, 0].max() + 0.5\n",
    "y_min, y_max = X[:, 1].min() - 0.5, X[:, 1].max() + 0.5\n",
    "\n",
    "plt.figure(figsize=(6, 4))\n",
    "plt.scatter(X[:, 0], X[:, 1], c=y, cmap=plt.cm.Set1, edgecolor=\"k\")\n",
    "s = 20\n",
    "plt.plot([-s*w_orth[0], s*w_orth[0]], [-s*w_orth[1], s*w_orth[1]], 'k', linewidth=2)\n",
    "plt.xlabel(\"Sepal length\")\n",
    "plt.ylabel(\"Sepal width\")\n",
    "plt.xlim(x_min, x_max)\n",
    "_ = plt.ylim(y_min, y_max)"
   ]
  },
  {
   "cell_type": "code",
   "execution_count": 32,
   "metadata": {
    "scrolled": false,
    "slideshow": {
     "slide_type": "subslide"
    }
   },
   "outputs": [
    {
     "data": {
      "image/png": "[encoded data removed]",
      "text/plain": [
       "<Figure size 576x432 with 1 Axes>"
      ]
     },
     "metadata": {
      "needs_background": "light"
     },
     "output_type": "display_data"
    }
   ],
   "source": [
    "k = 51\n",
    "n_points = 200\n",
    "x_ = np.linspace(x_min, x_max, n_points)\n",
    "y_ = np.linspace(y_min, y_max, n_points)\n",
    "\n",
    "xx, yy = np.meshgrid(x_, y_)\n",
    "label = np.zeros(xx.shape)\n",
    "\n",
    "for i in range(n_points):\n",
    "    for j in range(n_points):\n",
    "        point = np.array([xx[i, j], yy[i, j]]) # classify current point\n",
    "        knn_idx = np.argsort(np.sum((X - point)**2, axis=1))[:k]\n",
    "        label[i, j] = np.sign(y[knn_idx].sum())\n",
    "\n",
    "plt.figure(figsize=(8, 6))\n",
    "plt.scatter(X[:, 0], X[:, 1], c=(y/2+1), cmap=plt.cm.Set1, edgecolor=\"k\")\n",
    "plt.plot([-s*w_orth[0], s*w_orth[0]], [-s*w_orth[1], s*w_orth[1]], 'k', linewidth=2)\n",
    "_ = plt.imshow(np.flipud(label), cmap='summer', extent=[x_min, x_max, y_min, y_max])"
   ]
  },
  {
   "cell_type": "markdown",
   "metadata": {
    "slideshow": {
     "slide_type": "slide"
    }
   },
   "source": [
    "# How cool are we?"
   ]
  },
  {
   "cell_type": "markdown",
   "metadata": {
    "slideshow": {
     "slide_type": "subslide"
    }
   },
   "source": [
    "# Well, we first reinvented the _perceptron_"
   ]
  },
  {
   "cell_type": "markdown",
   "metadata": {},
   "source": [
    " <div class=\"row\">\n",
    "  <div class=\"column\">\n",
    "    <center>\n",
    "        <img src=\"figs/rosenblatt.jpg\" width=\"50%\"/> \n",
    "    </center>    \n",
    "  </div>\n",
    "  <div class=\"column\">\n",
    "    •  A brainchild of Frank Rosenblatt <br>\n",
    "    •  Huge press coverage at the time <br> \n",
    "    •  Huge implications today <br><br>\n",
    "\n",
    "    The New York Times, 1958\n",
    "\n",
    "<img src=\"figs/nytp.png\" width=\"60%\"/>\n",
    "  </div>\n",
    "</div> \n"
   ]
  },
  {
   "cell_type": "markdown",
   "metadata": {
    "slideshow": {
     "slide_type": "subslide"
    }
   },
   "source": [
    "<center>\n",
    "<img src=\"figs/0925_rosenblatt4.jpg\" width=\"80%\"/>\n",
    "</center>"
   ]
  },
  {
   "cell_type": "markdown",
   "metadata": {
    "slideshow": {
     "slide_type": "subslide"
    }
   },
   "source": [
    "# We then reinvented $k$ nearest neighbors"
   ]
  },
  {
   "cell_type": "markdown",
   "metadata": {},
   "source": [
    " <div class=\"row\">\n",
    "  <div class=\"column\">\n",
    "    <center>\n",
    "<img src=\"figs/tomcover.jpg\" width=\"40%\"/>\n",
    "    </center>    \n",
    "  </div>\n",
    "  <div class=\"column\"><br>\n",
    "    • Evelyn Fix & Joseph Lawson Hodges Jr. circa 1951 <br><br>\n",
    "    • Expanded and analyzed by Thomas Cover (on the left)  <br><br>\n",
    "    • Despite simplicity it is an incredibly useful technique, and one which has been keeping machine learning theorists busy for many years <br>\n",
    "  </div>\n",
    "</div> \n"
   ]
  },
  {
   "cell_type": "markdown",
   "metadata": {
    "slideshow": {
     "slide_type": "subslide"
    }
   },
   "source": [
    "# Some of the questions we must answer\n",
    "\n",
    "- Which classifier is better?\n",
    "- What does \"better\" even mean?\n",
    "\n",
    "## We have been committing a crime\n",
    "\n",
    "- We \"trained\", \"validated\", and \"tested\" on one and the same dataset\n",
    "- For $k$NN it's even a bit silly (consider the iris example)"
   ]
  },
  {
   "cell_type": "markdown",
   "metadata": {
    "slideshow": {
     "slide_type": "slide"
    }
   },
   "source": [
    "# This course\n",
    "\n",
    "- \"Pattern recognition\" very close to \"machine learning\"\n",
    "- Focus in PR is on \"supervised learning\"\n",
    "    - classification\n",
    "    - prediction\n",
    "- But \"unsupervised learning\" plays a key role\n",
    "    - representation learning\n",
    "    - feature maps: learning good features"
   ]
  },
  {
   "cell_type": "markdown",
   "metadata": {
    "slideshow": {
     "slide_type": "-"
    }
   },
   "source": [
    "# Why pattern recognition or machine learning\n",
    "\n",
    "The following couple of slides were made by __Volodymyr Kuleshov__ of Cornell Tech"
   ]
  },
  {
   "cell_type": "markdown",
   "metadata": {
    "slideshow": {
     "slide_type": "slide"
    }
   },
   "source": [
    "# Machine Learning is all the rage\n",
    "\n",
    "We hear a lot about machine learning (or ML for short) in the news.\n",
    "\n",
    "<table><tr>\n",
    "    <td><center><img src=\"img/breakthrough.jpg\"/></center></td>\n",
    "    <td><center><img width=90% src=\"img/alphago.jpeg\"/></center></td>\n",
    "    <td><center><img src=\"img/obama2.jpg\"/></center></td>    \n",
    "</tr></table>    \n",
    "\n",
    "But what is it, really?\n",
    "\n",
    "<font size=\"2\">Slide by __Volodymyr Kuleshov__</font>"
   ]
  },
  {
   "cell_type": "markdown",
   "metadata": {
    "slideshow": {
     "slide_type": "slide"
    }
   },
   "source": [
    "# ML in Everyday Life: Search Engines\n",
    "\n",
    "You use machine learning every day when you run a search engine query.\n",
    "\n",
    "<center><img src=\"img/google.png\"/></center>\n",
    "\n",
    "<font size=\"2\">Slide by __Volodymyr Kuleshov__</font>"
   ]
  },
  {
   "cell_type": "markdown",
   "metadata": {
    "slideshow": {
     "slide_type": "slide"
    }
   },
   "source": [
    "# ML in Everyday Life: Personal Assistants\n",
    "\n",
    "Machine learning also powers the speech recognition, question answering and other intelligent capabilities of smartphone assistants like Apple Siri.\n",
    "<table><tr>\n",
    "    <td><center><img src=\"img/siri.png\"/></center></td>\n",
    "    <td><center><img src=\"img/google_assistant.png\"/></center></td>\n",
    "</tr></table>  \n",
    "\n",
    "<font size=\"2\">Slide by __Volodymyr Kuleshov__</font>"
   ]
  },
  {
   "cell_type": "markdown",
   "metadata": {
    "slideshow": {
     "slide_type": "slide"
    }
   },
   "source": [
    "# ML in Everyday Life: Spam/Fraud Detection\n",
    "\n",
    "Machine learning is used in every spam filter, such as in Gmail.\n",
    "<br>\n",
    "<center><img src=\"img/spam.png\"/></center>"
   ]
  },
  {
   "cell_type": "markdown",
   "metadata": {
    "slideshow": {
     "slide_type": "-"
    }
   },
   "source": [
    "ML systems are also used by credit card companies and banks to automatically detect fraudulent behavior.\n",
    "\n",
    "<font size=\"2\">Slide by __Volodymyr Kuleshov__</font>"
   ]
  },
  {
   "cell_type": "markdown",
   "metadata": {
    "slideshow": {
     "slide_type": "slide"
    }
   },
   "source": [
    "# ML in Everyday Life: Self-Driving Cars\n",
    "\n",
    "One of the most exciting and cutting-edge uses of machine learning algorithms are in autonomous vehicles.\n",
    "\n",
    "<center><img width=\"80%\" src=\"img/waymo.jpg\"/></center>"
   ]
  },
  {
   "cell_type": "markdown",
   "metadata": {
    "slideshow": {
     "slide_type": "slide"
    }
   },
   "source": [
    "# A Definition of Machine Learning\n",
    "\n",
    "In 1959, Arthur Samuel defined machine learning as follows.\n",
    "\n",
    "> Machine learning is a field of study that gives computers the ability to learn without being explicitly programmed.\n",
    "\n",
    "What does \"learn\" and \"explicitly programmed\" mean here? Let's look at an example."
   ]
  },
  {
   "cell_type": "markdown",
   "metadata": {
    "slideshow": {
     "slide_type": "slide"
    }
   },
   "source": [
    "# An Example: Self Driving Cars\n",
    "\n",
    "A self-driving car system uses dozens of components that include detection of cars, pedestrians, and other objects.\n",
    "<br>\n",
    "<center><img width=80% src=\"img/tesla.jpg\"/></center>\n",
    "\n",
    "<font size=\"2\">Slide by __Volodymyr Kuleshov__</font>\n"
   ]
  },
  {
   "cell_type": "markdown",
   "metadata": {
    "slideshow": {
     "slide_type": "slide"
    }
   },
   "source": [
    "# Self Driving Cars: A Rule-Based Algorithm\n",
    "\n",
    "One way to build a detection system is to write down rules.\n",
    "<left><img width=50% src=\"img/tesla_zoom.jpg\"/></left>\n",
    "\n",
    "<!-- <table style=\"border: 1px\"><tr>\n",
    "    <td><left>One way to build a detection system is to write down rules.</left></td>\n",
    "    <td><img src=\"img/tesla_zoom.jpg\"/></td>\n",
    "</tr></table> -->"
   ]
  },
  {
   "cell_type": "code",
   "execution_count": null,
   "metadata": {
    "slideshow": {
     "slide_type": "fragment"
    }
   },
   "outputs": [],
   "source": [
    "# pseudocode example for a rule-based classification system\n",
    "object = camera.get_object()\n",
    "if object.has_wheels(): # does the object have wheels?\n",
    "    if len(object.wheels) == 4: return \"Car\" # four wheels => car    \n",
    "    elif len(object.wheels) == 2:\n",
    "        if object.seen_from_back():\n",
    "            return \"Car\" # viewed from back, car has 2 wheels\n",
    "        else:\n",
    "            return \"Bicycle\" # normally, 2 wheels => bicycle\n",
    "return \"Unknown\" # no wheels? we don't know what it is"
   ]
  },
  {
   "cell_type": "markdown",
   "metadata": {
    "slideshow": {
     "slide_type": "fragment"
    }
   },
   "source": [
    "In practice, it's almost impossible for a human to specify all the edge cases.\n",
    "\n",
    "<font size=\"2\">Slide by __Volodymyr Kuleshov__</font>"
   ]
  },
  {
   "cell_type": "markdown",
   "metadata": {
    "slideshow": {
     "slide_type": "slide"
    }
   },
   "source": [
    "# Self Driving Cars: An ML Approach\n",
    "\n",
    "The machine learning approach is to teach a computer how to do detection by showing it many examples of different objects.\n",
    "\n",
    "<center><img src=\"img/tesla_data.png\"/></center>\n",
    "\n",
    "No manual programming is needed: the computer learns what defines a pedestrian or a car on its own!\n",
    "\n",
    "<font size=\"2\">Slide by __Volodymyr Kuleshov__</font>\n"
   ]
  },
  {
   "cell_type": "markdown",
   "metadata": {
    "slideshow": {
     "slide_type": "slide"
    }
   },
   "source": [
    "# Revisiting Our Definition of ML\n",
    "\n",
    "> Machine learning is a field of study that gives computers the ability to learn without being explicitly programmed. (Arthur Samuel, 1959.)\n",
    "\n",
    "This principle can be applied to countless domains:\n",
    "medical diagnosis, factory automation, machine translation, and many more!\n",
    "\n",
    "\n",
    "<font size=\"2\">Slide by __Volodymyr Kuleshov__</font>"
   ]
  },
  {
   "cell_type": "markdown",
   "metadata": {
    "slideshow": {
     "slide_type": "slide"
    }
   },
   "source": [
    "# Why Machine Learning?\n",
    "\n",
    "Why is this approach to building software interesting?\n",
    "\n"
   ]
  },
  {
   "cell_type": "markdown",
   "metadata": {
    "slideshow": {
     "slide_type": "fragment"
    }
   },
   "source": [
    "* It allows building practical systems for real-world applications that couldn't be solved otherwise.\n",
    "\n"
   ]
  },
  {
   "cell_type": "markdown",
   "metadata": {
    "slideshow": {
     "slide_type": "fragment"
    }
   },
   "source": [
    "* Learning is wildly regarded as a key approach towards building general-purpose artificial intelligence systems."
   ]
  },
  {
   "cell_type": "markdown",
   "metadata": {
    "slideshow": {
     "slide_type": "fragment"
    }
   },
   "source": [
    "* The science and engineering of machine learning offers insights into human intelligence.\n",
    "\n",
    "<font size=\"2\">Slide by __Volodymyr Kuleshov__</font>"
   ]
  },
  {
   "cell_type": "markdown",
   "metadata": {
    "slideshow": {
     "slide_type": "slide"
    }
   },
   "source": [
    "# History\n",
    "\n"
   ]
  },
  {
   "cell_type": "markdown",
   "metadata": {
    "slideshow": {
     "slide_type": "slide"
    }
   },
   "source": [
    "# Beware\n",
    "\n",
    "- The language of pattern recognition is mathematical\n",
    "- We will give intuition but to really get it, make sure you know your probability and linear algebra well\n",
    "- That is a good thing; without the formal understanding PR would not be where it's now\n",
    "- Let me tell you a story about interviewing people for CeDA..."
   ]
  },
  {
   "cell_type": "markdown",
   "metadata": {
    "slideshow": {
     "slide_type": "subslide"
    }
   },
   "source": [
    "# Key mathematical tools\n",
    "\n",
    "## Probability theory (and statistics)\n",
    "\n",
    "- What is a random variable? A random vector?\n",
    "- A joint distribution? A conditional distribution? An expectation?\n",
    "- What are independent random variables?\n",
    "- ...\n",
    "\n",
    "## Linear algebra\n",
    "\n",
    "- What does $\\mathbf{w}^T \\mathbf{x}$ mean? How about $\\| \\mathbf{x} \\|$?\n",
    "- Why is $\\arg \\min_{\\mathbf{w}} ~ \\| \\mathbf{y} - \\mathbf{X} \\mathbf{w} \\|^2 + \\lambda \\| \\mathbf{x} \\|^2 $ precisely $\\mathbf{x}^* = ( \\mathbf{X}^T \\mathbf{X} + \\lambda \\mathbf{I})^{-1} \\mathbf{X}^T \\mathbf{y}$\n",
    "- What does it mean to invert a matrix?\n",
    "- What is a projection?\n",
    "- ..."
   ]
  },
  {
   "cell_type": "markdown",
   "metadata": {
    "slideshow": {
     "slide_type": "slide"
    }
   },
   "source": [
    "# The course team"
   ]
  },
  {
   "cell_type": "markdown",
   "metadata": {
    "slideshow": {
     "slide_type": "slide"
    }
   },
   "source": [
    "# Course structure, week structure, grade structure\n",
    "\n",
    "### Lectures\n",
    "- Tuesdays (8:40 - 10:00?)\n",
    "- Fridays (10:15 - 12:00)\n",
    "\n",
    "### Recitations \n",
    "\n",
    "- Wednesdays (14:15 - 16:00)\n",
    "- Clinique and office hours on Mondays; sometimes we may do an interesting proof (kNN or perceptron or ...)\n",
    "\n",
    "### Known perturbations\n",
    "\n",
    "- There will be regular perturbations to this plan\n",
    "- Next week I will teach on Monday and either post a video or find a replacement for Friday"
   ]
  },
  {
   "cell_type": "markdown",
   "metadata": {
    "slideshow": {
     "slide_type": "subslide"
    }
   },
   "source": [
    "# Online resources\n",
    "\n",
    "\n",
    "### Course website\n",
    "\n",
    "- [https://sada.dmi.unibas.ch/teaching/pr22](https://sada.dmi.unibas.ch/teaching/pr22)\n",
    "\n",
    "### Gradescope\n",
    "\n",
    "- Assignment submission will happen through Gradescope\n",
    "- Details to follow in a jiffy\n",
    "\n",
    "### Forum\n",
    "\n",
    "- We'll use piazza\n",
    "- Details to follow in jiffy\n"
   ]
  },
  {
   "cell_type": "markdown",
   "metadata": {
    "slideshow": {
     "slide_type": "subslide"
    }
   },
   "source": [
    "# Grading scheme\n",
    "\n",
    "| What | Frequency | How much? \n",
    "|------|-----------|-----------\n",
    "| Graded homework assignments | about biweekly | 50% \n",
    "| Final written exam | a one-off | 40%\n",
    "| Attendance and participation | weekly | 10% \n",
    "\n",
    "- To write the final exam you need to make at least 50% HW points in total with a reasonable attempt at every assignment\n",
    "- Attendance will be taken at random points throughout the semester\n",
    "- Scheme subject to minor tweaks in the first few weeks\n"
   ]
  },
  {
   "cell_type": "markdown",
   "metadata": {
    "slideshow": {
     "slide_type": "subslide"
    }
   },
   "source": [
    "# The bad news and the good news"
   ]
  },
  {
   "cell_type": "markdown",
   "metadata": {
    "slideshow": {
     "slide_type": "fragment"
    }
   },
   "source": [
    "### Bad\n",
    "\n",
    "It won't be easy. 🥹"
   ]
  },
  {
   "cell_type": "markdown",
   "metadata": {
    "slideshow": {
     "slide_type": "fragment"
    }
   },
   "source": [
    "### Good\n",
    "\n",
    "It will be professionally and academically rewarding. 💪🏼"
   ]
  },
  {
   "cell_type": "markdown",
   "metadata": {
    "slideshow": {
     "slide_type": "subslide"
    }
   },
   "source": [
    "# A rough plan (this will certainly evolve)\n",
    "\n",
    "| week | theme(s) |\n",
    "| ---- | -------- |\n",
    "| 1    |    Introduction to PR      |\n",
    "| 2    |    Modeling knowledge, probabilistically      |\n",
    "| 3    |    Supervised learning   |\n",
    "| 4    |    Linear methods and the importance of good features     |\n",
    "| 5    |        Signal processing, good features for images, sounds, text, ...  |\n",
    "| 6    |     Signal processing, the multiscale idea, seeds of CNNs     |\n",
    "| 7    |       Deblurring and denoising: linear methods   |\n",
    "| 8    |        Statistical framing for deblurring and denoising, image models  |\n",
    "| 9   |      Deep learning    |\n",
    "| 10   |      Deep learning    |\n",
    "| 11   |      Sampling (MCMC, ...)    |\n",
    "| 12   |      Sampling (MCMC, ...    |\n",
    "| 13   |      Applications of MCMC to the stuff above   |\n",
    "| 14 | TBD | \n"
   ]
  },
  {
   "cell_type": "markdown",
   "metadata": {
    "slideshow": {
     "slide_type": "slide"
    }
   },
   "source": [
    "# Quiz\n",
    "\n",
    "- How would our perceptron behave if the learning rate is multiplied by 10? Recall that we initialized the weights to an all-zero vector\n",
    "- When is it a good idea to use a small k in k-nearest-neighbor classification?"
   ]
  },
  {
   "cell_type": "markdown",
   "metadata": {
    "slideshow": {
     "slide_type": "slide"
    }
   },
   "source": [
    "# Summary -> Next time\n",
    "\n",
    "- Cautionary tales: not everything is pink in PR land\n",
    "- Generalization and clever Hans predictors (der Kluge Hans)\n",
    "- What is a pattern? (spoiler: it's a vector)\n",
    "- What is a \"feature\"?\n",
    "- Towards modeling knowledge, the probabilistic way\n",
    "\n",
    "\n",
    "<center>\n",
    "<br>\n",
    "<img src=\"figs/CleverHans.jpg\" width=\"35%\"/>\n",
    "</center>\n"
   ]
  },
  {
   "cell_type": "code",
   "execution_count": 6,
   "metadata": {
    "slideshow": {
     "slide_type": "skip"
    }
   },
   "outputs": [],
   "source": [
    "import matplotlib\n",
    "matplotlib.rcParams['font.family'] = ['Courier New', 'monospace']\n",
    "\n",
    "import matplotlib.pyplot as plt\n",
    "import numpy as np\n",
    "from tqdm import tqdm"
   ]
  },
  {
   "cell_type": "code",
   "execution_count": 7,
   "metadata": {
    "slideshow": {
     "slide_type": "skip"
    }
   },
   "outputs": [
    {
     "data": {
      "text/plain": [
       "Text(0.5, 1.0, 'Some title with $\\\\int_{\\\\mathbb{R}} e^{i\\\\omega t} dt$')"
      ]
     },
     "execution_count": 7,
     "metadata": {},
     "output_type": "execute_result"
    },
    {
     "data": {
      "image/png": "[encoded data removed]",
      "text/plain": [
       "<Figure size 576x216 with 1 Axes>"
      ]
     },
     "metadata": {
      "needs_background": "light"
     },
     "output_type": "display_data"
    }
   ],
   "source": [
    "import matplotlib as mpl\n",
    "\n",
    "mpl.rcParams['axes.spines.top'] = 0\n",
    "mpl.rcParams['axes.spines.right'] = 0\n",
    "mpl.rcParams['axes.spines.left'] = 1\n",
    "mpl.rcParams['axes.spines.bottom'] = 1\n",
    "mpl.rcParams.update({'font.size': 14})\n",
    "\n",
    "fig = plt.figure(figsize=(8, 3))\n",
    "plt.plot(np.random.randn(100))\n",
    "plt.title('Some title with $\\int_{\\mathbb{R}} e^{i\\omega t} dt$')\n"
   ]
  }
 ],
 "metadata": {
  "celltoolbar": "Slideshow",
  "kernelspec": {
   "display_name": "Python 3 (ipykernel)",
   "language": "python",
   "name": "python3"
  },
  "language_info": {
   "codemirror_mode": {
    "name": "ipython",
    "version": 3
   },
   "file_extension": ".py",
   "mimetype": "text/x-python",
   "name": "python",
   "nbconvert_exporter": "python",
   "pygments_lexer": "ipython3",
   "version": "3.9.12"
  },
  "rise": {
   "enable_chalkboard": true
  },
  "vscode": {
   "interpreter": {
    "hash": "40d3a090f54c6569ab1632332b64b2c03c39dcf918b08424e98f38b5ae0af88f"
   }
  }
 },
 "nbformat": 4,
 "nbformat_minor": 2
}
