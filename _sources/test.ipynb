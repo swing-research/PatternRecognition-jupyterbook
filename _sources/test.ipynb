{
 "cells": [
  {
   "cell_type": "markdown",
   "metadata": {},
   "source": [
    "import numpy as np\n",
    "import matplotlib.pyplot as plt\n",
    "import matplotlib as mpl"
   ]
  },
  {
   "cell_type": "code",
   "execution_count": 4,
   "metadata": {},
   "outputs": [],
   "source": [
    "import numpy as np\n",
    "import matplotlib.pyplot as plt\n",
    "import matplotlib as mpl\n",
    "\n",
    "mpl.rcParams['axes.spines.top'] = 0\n",
    "mpl.rcParams['axes.spines.right'] = 0\n",
    "mpl.rcParams['axes.spines.left'] = 1\n",
    "mpl.rcParams['axes.spines.bottom'] = 1\n",
    "mpl.rcParams.update({'font.size': 12})"
   ]
  },
  {
   "cell_type": "code",
   "execution_count": 5,
   "metadata": {},
   "outputs": [],
   "source": [
    "image_size = (250, 250)\n",
    "scale = 0\n",
    "\n",
    "noise = np.zeros((2, *image_size))\n",
    "\n",
    "noise[0] = scale * np.random.randn(*image_size)\n",
    "noise[1] = scale * np.random.randn(*image_size)\n",
    "\n",
    "# noise[1] = -noise[0] # homework\n",
    "\n",
    "from pathlib import Path\n",
    "result = list(Path('./book_data/lfw/').rglob('*.jpg'))\n",
    "\n",
    "n_train = 1000\n",
    "n_test = 100\n",
    "images = np.zeros((n_train, 250, 250))\n",
    "labels = np.zeros((n_train,), dtype=np.int8)\n",
    "\n",
    "images_test = np.zeros((n_test, 250, 250))\n",
    "labels_test = np.zeros((n_test,), dtype=np.int8)\n",
    "\n",
    "shuffle_idx = np.random.permutation(n_train + n_test)\n",
    "for i in range(n_train):\n",
    "    images[i] = plt.imread(result[shuffle_idx[i]]).mean(axis=2)\n",
    "    labels[i] = np.round(np.random.rand())\n",
    "    images[i] += noise[labels[i]]\n",
    "\n",
    "for i in range(n_train, n_train + n_test):\n",
    "    images_test[i - n_train] = plt.imread(result[shuffle_idx[i]]).mean(axis=2)\n",
    "    labels_test[i - n_train] = np.round(np.random.rand())\n",
    "    # no noise in the test set!"
   ]
  },
  {
   "cell_type": "code",
   "execution_count": null,
   "metadata": {},
   "outputs": [],
   "source": []
  },
  {
   "cell_type": "code",
   "execution_count": 2,
   "metadata": {},
   "outputs": [],
   "source": [
    "import numpy as np\n",
    "import matplotlib.pyplot as plt\n",
    "import matplotlib as mpl"
   ]
  },
  {
   "cell_type": "code",
   "execution_count": 6,
   "metadata": {},
   "outputs": [],
   "source": [
    "delta =np.zeros(11)\n",
    "delta[5] = 1"
   ]
  },
  {
   "cell_type": "code",
   "execution_count": 100,
   "metadata": {},
   "outputs": [],
   "source": [
    "h = np.cos(np.linspace(-np.pi/2,np.pi/2,7))\n",
    "\n",
    "\n",
    "y = np.convolve(delta,h)"
   ]
  },
  {
   "cell_type": "code",
   "execution_count": 101,
   "metadata": {},
   "outputs": [
    {
     "data": {
      "text/plain": [
       "array([0.00000000e+00, 0.00000000e+00, 0.00000000e+00, 0.00000000e+00,\n",
       "       0.00000000e+00, 6.12323400e-17, 5.00000000e-01, 8.66025404e-01,\n",
       "       1.00000000e+00, 8.66025404e-01, 5.00000000e-01, 6.12323400e-17,\n",
       "       0.00000000e+00, 0.00000000e+00, 0.00000000e+00, 0.00000000e+00,\n",
       "       0.00000000e+00])"
      ]
     },
     "execution_count": 101,
     "metadata": {},
     "output_type": "execute_result"
    }
   ],
   "source": [
    "y"
   ]
  },
  {
   "cell_type": "code",
   "execution_count": null,
   "metadata": {},
   "outputs": [],
   "source": []
  },
  {
   "cell_type": "code",
   "execution_count": 115,
   "metadata": {},
   "outputs": [
    {
     "data": {
      "image/png": "[encoded data removed]",
      "text/plain": [
       "<Figure size 720x360 with 2 Axes>"
      ]
     },
     "metadata": {
      "needs_background": "light"
     },
     "output_type": "display_data"
    }
   ],
   "source": [
    "from matplotlib import patches, pyplot as plt\n",
    "\n",
    "fig = plt.figure(figsize=(10,5))\n",
    "\n",
    "# First subplot\n",
    "ax1 = fig.add_subplot(121)\n",
    "plt.stem(delta,linefmt='black',markerfmt='ko')\n",
    "\n",
    "ax1.axis('off')\n",
    "ax1.set_title(r'$\\delta[n]$',y=-0.2)\n",
    "\n",
    "\n",
    "# Second subplot\n",
    "ax2 = fig.add_subplot(122)\n",
    "plt.stem(y,linefmt='black',markerfmt='ko')\n",
    "ax2.axis('off')\n",
    "ax2.set_title(r'$h[n]$',y=-0.2)\n",
    "\n",
    "# Add line from one subplot to the other\n",
    "xyA = [9, 0.6]\n",
    "#ax1.plot(*xyA, \"o\")\n",
    "xyB = [1, 0.6]\n",
    "#ax2.plot(*xyB, \"o\")\n",
    "transFigure = fig.transFigure.inverted()\n",
    "coord1 = transFigure.transform(ax1.transData.transform(xyA))\n",
    "coord2 = transFigure.transform(ax2.transData.transform(xyB))\n",
    "arrow = patches.FancyArrowPatch(\n",
    "    coord1,  # posA\n",
    "    coord2,  # posB\n",
    "    shrinkA=0,  # so tail is exactly on posA (default shrink is 2)\n",
    "    shrinkB=0,  # so head is exactly on posB (default shrink is 2)\n",
    "    transform=fig.transFigure,\n",
    "    color=\"black\",\n",
    "    arrowstyle=\"-|>\",  # \"normal\" arrow\n",
    "    mutation_scale=30,  # controls arrow head size\n",
    "    linewidth=3,\n",
    "    label='$S(\\delta)[n]$',\n",
    ")\n",
    "fig.patches.append(arrow)\n",
    "fig.tight_layout(pad=10)\n",
    "leg = plt.legend(handles = [arrow], fontsize=16, frameon=False, loc=(-0.6, 0.5))\n",
    "for item in leg.legendHandles:\n",
    "    item.set_visible(False)\n",
    "\n",
    "# Show figure\n",
    "plt.show()"
   ]
  },
  {
   "cell_type": "code",
   "execution_count": 10,
   "metadata": {},
   "outputs": [
    {
     "data": {
      "text/plain": [
       "<StemContainer object of 3 artists>"
      ]
     },
     "execution_count": 10,
     "metadata": {},
     "output_type": "execute_result"
    },
    {
     "data": {
      "image/png": "[encoded data removed]",
      "text/plain": [
       "<Figure size 432x288 with 1 Axes>"
      ]
     },
     "metadata": {
      "needs_background": "light"
     },
     "output_type": "display_data"
    }
   ],
   "source": [
    "plt.stem(delta)"
   ]
  },
  {
   "cell_type": "code",
   "execution_count": null,
   "metadata": {},
   "outputs": [],
   "source": []
  }
 ],
 "metadata": {
  "kernelspec": {
   "display_name": "Python 3 (ipykernel)",
   "language": "python",
   "name": "python3"
  },
  "language_info": {
   "codemirror_mode": {
    "name": "ipython",
    "version": 3
   },
   "file_extension": ".py",
   "mimetype": "text/x-python",
   "name": "python",
   "nbconvert_exporter": "python",
   "pygments_lexer": "ipython3",
   "version": "3.9.15"
  },
  "vscode": {
   "interpreter": {
    "hash": "290f41d3131bfa9f6731cdae0e29b2b5ba81679bd215c47fc7750167d224b256"
   }
  }
 },
 "nbformat": 4,
 "nbformat_minor": 2
}
